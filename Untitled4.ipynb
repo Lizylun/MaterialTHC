{
  "nbformat": 4,
  "nbformat_minor": 0,
  "metadata": {
    "colab": {
      "provenance": [],
      "authorship_tag": "ABX9TyMwssOog84jTS+t8gv7fhI/",
      "include_colab_link": true
    },
    "kernelspec": {
      "name": "python3",
      "display_name": "Python 3"
    },
    "language_info": {
      "name": "python"
    }
  },
  "cells": [
    {
      "cell_type": "markdown",
      "metadata": {
        "id": "view-in-github",
        "colab_type": "text"
      },
      "source": [
        "<a href=\"https://colab.research.google.com/github/Lizylun/MaterialTHC/blob/main/Untitled4.ipynb\" target=\"_parent\"><img src=\"https://colab.research.google.com/assets/colab-badge.svg\" alt=\"Open In Colab\"/></a>"
      ]
    },
    {
      "cell_type": "code",
      "execution_count": null,
      "metadata": {
        "colab": {
          "base_uri": "https://localhost:8080/"
        },
        "id": "2FkH4ryRwUu_",
        "outputId": "16356428-b800-4e9c-baf7-798bc29cf1be"
      },
      "outputs": [
        {
          "output_type": "stream",
          "name": "stdout",
          "text": [
            "{'brand': 'Ford', 'model': 'Mustang', 'year': 2020}\n"
          ]
        }
      ],
      "source": [
        "thisdict={\n",
        "    \"brand\":\"Ford\",\n",
        "    \"model\":\"Mustang\",\n",
        "    \"year\":1964,\n",
        "    \"year\":2020\n",
        "}\n",
        "print(thisdict)\n"
      ]
    },
    {
      "cell_type": "code",
      "source": [
        "diccionario={'python':2.7,'zope':2.3,'plone':5.7}\n",
        "\n",
        "l=[]\n",
        "for i in diccionario.keys():\n",
        "  l.append(diccionario[i])\n",
        "\n",
        "\n",
        "print(l)\n"
      ],
      "metadata": {
        "colab": {
          "base_uri": "https://localhost:8080/"
        },
        "id": "nU3WKLhXw4Y9",
        "outputId": "119daaad-3201-4c46-862f-d8eea59454b7"
      },
      "execution_count": null,
      "outputs": [
        {
          "output_type": "stream",
          "name": "stdout",
          "text": [
            "[2.7, 2.3, 5.7]\n"
          ]
        }
      ]
    },
    {
      "cell_type": "code",
      "source": [
        "import pandas as pd\n",
        "\n",
        "# crear un diccionario con datos\n",
        "datos = {\n",
        "\n",
        "        'Nombre': ['Juan','Maria', 'Pedro','Luisa'],\n",
        "        'Edad': [25, 28, 22, 30],\n",
        "        'Ciudad':['Madrid','Barcelona', 'Valencia','Sevilla']\n",
        "}\n",
        "\n",
        "# crear un DataFrame a partir del diccionario\n",
        "dataframe = pd.DataFrame(datos)\n",
        "\n",
        "# Mostrar el Dataframe\n",
        "print(dataframe)"
      ],
      "metadata": {
        "colab": {
          "base_uri": "https://localhost:8080/"
        },
        "id": "A_nZhTPdyUwK",
        "outputId": "1ec35111-7d32-437d-ff28-f23c936622cd"
      },
      "execution_count": null,
      "outputs": [
        {
          "output_type": "stream",
          "name": "stdout",
          "text": [
            "  Nombre  Edad     Ciudad\n",
            "0   Juan    25     Madrid\n",
            "1  Maria    28  Barcelona\n",
            "2  Pedro    22   Valencia\n",
            "3  Luisa    30    Sevilla\n"
          ]
        }
      ]
    },
    {
      "cell_type": "code",
      "source": [
        "frutas = ('Mango','Sandia','Fresa')\n",
        "for fruta in frutas:\n",
        "   print(fruta)"
      ],
      "metadata": {
        "colab": {
          "base_uri": "https://localhost:8080/"
        },
        "id": "r-wEfWxg0gts",
        "outputId": "42c58f0f-a470-4d3b-dcac-0c981246bcf6"
      },
      "execution_count": null,
      "outputs": [
        {
          "output_type": "stream",
          "name": "stdout",
          "text": [
            "Mango\n",
            "Sandia\n",
            "Fresa\n"
          ]
        }
      ]
    },
    {
      "cell_type": "code",
      "source": [
        "if 'manzana' in frutas:\n",
        "   print('Si, la manzana esta en la tupla.')\n",
        "else:\n",
        "  print('No, la manzana no esta en la tupla')"
      ],
      "metadata": {
        "colab": {
          "base_uri": "https://localhost:8080/"
        },
        "id": "1L_sTsVv1hPi",
        "outputId": "c5f26ccf-0910-4278-a3ac-b6644bc22cdd"
      },
      "execution_count": null,
      "outputs": [
        {
          "output_type": "stream",
          "name": "stdout",
          "text": [
            "No, la manzana no esta en la tupla\n"
          ]
        }
      ]
    },
    {
      "cell_type": "code",
      "source": [
        "def mi funcion ():\n",
        "  print(\"Hola, te saludo desde la funcion\")"
      ],
      "metadata": {
        "id": "5T4L_DZA2GaP"
      },
      "execution_count": null,
      "outputs": []
    },
    {
      "cell_type": "code",
      "source": [
        "def mi_funcion_nueva(fname):\n",
        "   print(\" Hola \" +fname+ \" te saludo desde la funcion \")\n",
        "\n",
        "mi_funcion_nueva(\"liz\")"
      ],
      "metadata": {
        "colab": {
          "base_uri": "https://localhost:8080/"
        },
        "id": "uzhPeD1s32fL",
        "outputId": "80f45272-7dd6-4929-8bf2-4159f8b07fa7"
      },
      "execution_count": null,
      "outputs": [
        {
          "output_type": "stream",
          "name": "stdout",
          "text": [
            " Hola liz te saludo desde la funcion \n"
          ]
        }
      ]
    },
    {
      "cell_type": "code",
      "source": [
        "def mi_funcion(*kids):\n",
        "    print(\" El niño menor es \" + kids [2])\n",
        "\n",
        "mi_funcion(\"Emily\", \"Tomas\", \"Oscar\", \"Odai\")"
      ],
      "metadata": {
        "colab": {
          "base_uri": "https://localhost:8080/"
        },
        "id": "hsKOLHfQ4qBK",
        "outputId": "4295637d-55b4-4894-849c-0eadd736bb8a"
      },
      "execution_count": null,
      "outputs": [
        {
          "output_type": "stream",
          "name": "stdout",
          "text": [
            " El niño menor es Oscar\n"
          ]
        }
      ]
    },
    {
      "cell_type": "markdown",
      "source": [
        "operaciones con matrices"
      ],
      "metadata": {
        "id": "zV2t6-Qh8QS3"
      }
    },
    {
      "cell_type": "code",
      "source": [
        "# Define dos vectores\n",
        "V1 = [1, 3, 4, 5, 6]\n",
        "V2 = [7, 8, 9, 10, 11]\n",
        "\n",
        "def suma_vec(V1,V2):\n",
        "  if len(V1) == len(V2):\n",
        "   n = len(V1)\n",
        "   c = []\n",
        "   for i in range(n):\n",
        "     c.append(V1[i]+V2[i])\n",
        "   return c\n",
        "resultado = suma_vec(V1,V2)\n",
        "print(resultado)\n",
        "\n"
      ],
      "metadata": {
        "colab": {
          "base_uri": "https://localhost:8080/"
        },
        "id": "KXMBnoqn8Sd5",
        "outputId": "3138836b-a170-439c-b66d-375295903e64"
      },
      "execution_count": null,
      "outputs": [
        {
          "output_type": "stream",
          "name": "stdout",
          "text": [
            "[8, 11, 13, 15, 17]\n"
          ]
        }
      ]
    },
    {
      "cell_type": "markdown",
      "source": [
        "producto punto"
      ],
      "metadata": {
        "id": "cDbfnMAmEOKX"
      }
    },
    {
      "cell_type": "code",
      "source": [
        "A = [7,9]\n",
        "B = [4,8]\n",
        "\n",
        "def prod_punt(A,B)"
      ],
      "metadata": {
        "id": "j686KirfET2a"
      },
      "execution_count": null,
      "outputs": []
    }
  ]
}