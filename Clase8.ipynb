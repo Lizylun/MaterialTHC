{
  "nbformat": 4,
  "nbformat_minor": 0,
  "metadata": {
    "colab": {
      "provenance": [],
      "authorship_tag": "ABX9TyP3Z0GRekSZvaJ/gyzqnWkf",
      "include_colab_link": true
    },
    "kernelspec": {
      "name": "python3",
      "display_name": "Python 3"
    },
    "language_info": {
      "name": "python"
    }
  },
  "cells": [
    {
      "cell_type": "markdown",
      "metadata": {
        "id": "view-in-github",
        "colab_type": "text"
      },
      "source": [
        "<a href=\"https://colab.research.google.com/github/Lizylun/MaterialTHC/blob/main/Clase8.ipynb\" target=\"_parent\"><img src=\"https://colab.research.google.com/assets/colab-badge.svg\" alt=\"Open In Colab\"/></a>"
      ]
    },
    {
      "cell_type": "code",
      "source": [
        "import numpy as np"
      ],
      "metadata": {
        "id": "iSXEWpvXG7pP"
      },
      "execution_count": 2,
      "outputs": []
    },
    {
      "cell_type": "code",
      "execution_count": 3,
      "metadata": {
        "colab": {
          "base_uri": "https://localhost:8080/"
        },
        "id": "nfPCBciCGwxN",
        "outputId": "43d9b2d8-6afa-4116-dbeb-8bf61f195ff8"
      },
      "outputs": [
        {
          "output_type": "stream",
          "name": "stdout",
          "text": [
            "[[[1 2 3]\n",
            "  [4 5 6]]\n",
            "\n",
            " [[1 2 3]\n",
            "  [4 5 6]]]\n"
          ]
        }
      ],
      "source": [
        "arr = np.array([[[1, 2, 3], [4, 5, 6]], [[1, 2, 3], [4, 5, 6]]])\n",
        "\n",
        "print(arr)"
      ]
    },
    {
      "cell_type": "code",
      "source": [
        "matriz = np.array([[1,2,3], [4,5,6],[7,8,9]])\n",
        "suma = 0\n",
        "for i in range (len(matriz)):\n",
        " for j in range (len(matriz[i])):\n",
        "  suma +=matriz[i,j]\n",
        "print (suma)\n"
      ],
      "metadata": {
        "colab": {
          "base_uri": "https://localhost:8080/"
        },
        "id": "KQzSCtLDKLrw",
        "outputId": "bf5a553c-8975-41cb-db8e-ce7ff9ec083a"
      },
      "execution_count": 11,
      "outputs": [
        {
          "output_type": "stream",
          "name": "stdout",
          "text": [
            "45\n"
          ]
        }
      ]
    },
    {
      "cell_type": "code",
      "source": [
        "def ProdPunto(a,b):\n",
        "  PP=0.0\n",
        "  for i in range(len(a)):\n",
        "    PP=PP+a[i]*b[i]\n",
        "  return PP"
      ],
      "metadata": {
        "id": "Vz4KczpdQrxd"
      },
      "execution_count": 19,
      "outputs": []
    },
    {
      "cell_type": "code",
      "source": [
        "arr2=np.array([[1,2,3],[4,5,6],[7,8,9]])\n",
        "arr3=np.array([[1,1,1],[1,1,1],[1,1,1]])\n",
        "Pp_por_reng=np.array([0,0,0])\n",
        "Pp_por_col=np.array([0,0,0])\n"
      ],
      "metadata": {
        "id": "_KDAsGAzW-JZ"
      },
      "execution_count": 20,
      "outputs": []
    },
    {
      "cell_type": "code",
      "source": [
        "for i in range(len(arr2)):\n",
        "  Pp_por_reng[i]=ProdPunto(arr2[i],arr3[i])\n",
        "Pp_por_reng"
      ],
      "metadata": {
        "colab": {
          "base_uri": "https://localhost:8080/"
        },
        "id": "QTA-ZZfCXkUn",
        "outputId": "3599b6b7-1f2e-49c1-94d9-1ef1d41a4373"
      },
      "execution_count": 21,
      "outputs": [
        {
          "output_type": "execute_result",
          "data": {
            "text/plain": [
              "array([ 6, 15, 24])"
            ]
          },
          "metadata": {},
          "execution_count": 21
        }
      ]
    },
    {
      "cell_type": "code",
      "source": [
        "def AgarraCol(a,col):\n",
        "  nuevo=[]\n",
        "  for i in range(len(a)):\n",
        "    nuevo.append(a[i,col])\n",
        "\n",
        "  return np.array(nuevo)\n"
      ],
      "metadata": {
        "id": "kTPsPDRIYjz4"
      },
      "execution_count": 22,
      "outputs": []
    },
    {
      "cell_type": "code",
      "source": [
        "col1=AgarraCol(arr2,0)\n",
        "col1"
      ],
      "metadata": {
        "colab": {
          "base_uri": "https://localhost:8080/"
        },
        "id": "N0Ac18tIZQVy",
        "outputId": "a88da1da-7905-4a97-dfca-33e866b72ea2"
      },
      "execution_count": 25,
      "outputs": [
        {
          "output_type": "execute_result",
          "data": {
            "text/plain": [
              "array([1, 4, 7])"
            ]
          },
          "metadata": {},
          "execution_count": 25
        }
      ]
    },
    {
      "cell_type": "code",
      "source": [
        "for i in range(len(arr2)):\n",
        "   Pp_por_col[i]=ProdPunto(AgarraCol(arr2,i),AgarraCol(arr3,i))\n",
        "\n",
        "Pp_por_col"
      ],
      "metadata": {
        "colab": {
          "base_uri": "https://localhost:8080/"
        },
        "id": "qlQA4OHYZ90t",
        "outputId": "d83eeb5c-a5c0-4632-cf00-2facf1bd233d"
      },
      "execution_count": 27,
      "outputs": [
        {
          "output_type": "execute_result",
          "data": {
            "text/plain": [
              "array([12, 15, 18])"
            ]
          },
          "metadata": {},
          "execution_count": 27
        }
      ]
    }
  ]
}