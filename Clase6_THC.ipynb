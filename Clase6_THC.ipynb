{
  "nbformat": 4,
  "nbformat_minor": 0,
  "metadata": {
    "colab": {
      "provenance": [],
      "authorship_tag": "ABX9TyMZdR7uzHaDpvmrYLinvp0M",
      "include_colab_link": true
    },
    "kernelspec": {
      "name": "python3",
      "display_name": "Python 3"
    },
    "language_info": {
      "name": "python"
    }
  },
  "cells": [
    {
      "cell_type": "markdown",
      "metadata": {
        "id": "view-in-github",
        "colab_type": "text"
      },
      "source": [
        "<a href=\"https://colab.research.google.com/github/Lizylun/MaterialTHC/blob/main/Clase6_THC.ipynb\" target=\"_parent\"><img src=\"https://colab.research.google.com/assets/colab-badge.svg\" alt=\"Open In Colab\"/></a>"
      ]
    },
    {
      "cell_type": "code",
      "execution_count": 3,
      "metadata": {
        "id": "G664948REoJf"
      },
      "outputs": [],
      "source": [
        "def mifunc(n):\n",
        " return lambda a : a * n"
      ]
    },
    {
      "cell_type": "code",
      "source": [
        "midoble = mifunc(2)\n",
        "\n",
        "print(midoble(11))"
      ],
      "metadata": {
        "colab": {
          "base_uri": "https://localhost:8080/"
        },
        "id": "jns56YDbH0JK",
        "outputId": "978bafef-3a7f-44b4-e993-0506b366346e"
      },
      "execution_count": 4,
      "outputs": [
        {
          "output_type": "stream",
          "name": "stdout",
          "text": [
            "22\n"
          ]
        }
      ]
    },
    {
      "cell_type": "code",
      "source": [
        "def mifunc(n):\n",
        " return lambda a : a * n\n",
        "midoble = mifunc(3)\n",
        "\n",
        "print(midoble(11))"
      ],
      "metadata": {
        "colab": {
          "base_uri": "https://localhost:8080/"
        },
        "id": "oQ4JjA7wIPM0",
        "outputId": "203205e8-7888-43f6-c5b4-0ac94e1c1762"
      },
      "execution_count": 5,
      "outputs": [
        {
          "output_type": "stream",
          "name": "stdout",
          "text": [
            "33\n"
          ]
        }
      ]
    },
    {
      "cell_type": "code",
      "source": [
        "def mifunc(n):\n",
        "  return lambda a : a * n\n",
        "\n",
        "MiDoble = mifunc(2)\n",
        "MiTriple = mifunc(3)\n",
        "\n",
        "print(MiDoble(11))\n",
        "print(MiTriple(11))"
      ],
      "metadata": {
        "colab": {
          "base_uri": "https://localhost:8080/"
        },
        "id": "S_A9HNPhIXxD",
        "outputId": "c8c2a24a-3707-4a1d-d991-5e2c5dff8fbf"
      },
      "execution_count": 6,
      "outputs": [
        {
          "output_type": "stream",
          "name": "stdout",
          "text": [
            "22\n",
            "33\n"
          ]
        }
      ]
    },
    {
      "cell_type": "code",
      "source": [
        "#Filtrar numeros pares\n",
        "numeros = list(range(1,50))\n",
        "num_pares = list(filter (lambda a : a % 2 == 0, numeros))\n",
        "print(num_pares)\n",
        "\n"
      ],
      "metadata": {
        "colab": {
          "base_uri": "https://localhost:8080/"
        },
        "id": "i56H9UhXJx8Q",
        "outputId": "896423af-f715-4622-f4c4-6a2abeaa3457"
      },
      "execution_count": 7,
      "outputs": [
        {
          "output_type": "stream",
          "name": "stdout",
          "text": [
            "[2, 4, 6, 8, 10, 12, 14, 16, 18, 20, 22, 24, 26, 28, 30, 32, 34, 36, 38, 40, 42, 44, 46, 48]\n"
          ]
        }
      ]
    },
    {
      "cell_type": "code",
      "source": [
        "#Encriptar un Nombre\n",
        "name = \"lizbeth\"\n",
        "carac = [\"%\", \"$\", \"#\", \"°\", \"@\", \"/\"]\n",
        "for letra in name:\n",
        " print(letra)"
      ],
      "metadata": {
        "colab": {
          "base_uri": "https://localhost:8080/"
        },
        "id": "BSHzeya_Qo2b",
        "outputId": "4625ae00-f177-4100-c058-25437b1d97a1"
      },
      "execution_count": 15,
      "outputs": [
        {
          "output_type": "stream",
          "name": "stdout",
          "text": [
            "l\n",
            "i\n",
            "z\n",
            "b\n",
            "e\n",
            "t\n",
            "h\n"
          ]
        }
      ]
    },
    {
      "cell_type": "code",
      "source": [
        "A = [[1,2,3], [4,5,6], [7,8,9]]\n",
        "B = [[2,6,10], [4,7,11], [11,12,5]]\n",
        "for i in range (len(A)):\n",
        "  for j in range (len(A)):\n",
        "     print(A[i][j]*B[i][j])"
      ],
      "metadata": {
        "colab": {
          "base_uri": "https://localhost:8080/"
        },
        "id": "ev_EMlsXUddX",
        "outputId": "0264376e-a6c1-4078-b935-90f416a4a82f"
      },
      "execution_count": 25,
      "outputs": [
        {
          "output_type": "stream",
          "name": "stdout",
          "text": [
            "2\n",
            "12\n",
            "30\n",
            "16\n",
            "35\n",
            "66\n",
            "77\n",
            "96\n",
            "45\n"
          ]
        }
      ]
    }
  ]
}