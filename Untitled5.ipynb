{
  "nbformat": 4,
  "nbformat_minor": 0,
  "metadata": {
    "colab": {
      "provenance": [],
      "authorship_tag": "ABX9TyPhMjSidxdEtEL+0BbK4hl4",
      "include_colab_link": true
    },
    "kernelspec": {
      "name": "python3",
      "display_name": "Python 3"
    },
    "language_info": {
      "name": "python"
    }
  },
  "cells": [
    {
      "cell_type": "markdown",
      "metadata": {
        "id": "view-in-github",
        "colab_type": "text"
      },
      "source": [
        "<a href=\"https://colab.research.google.com/github/Lizylun/MaterialTHC/blob/main/Untitled5.ipynb\" target=\"_parent\"><img src=\"https://colab.research.google.com/assets/colab-badge.svg\" alt=\"Open In Colab\"/></a>"
      ]
    },
    {
      "cell_type": "code",
      "execution_count": 3,
      "metadata": {
        "colab": {
          "base_uri": "https://localhost:8080/"
        },
        "id": "zheW9Z81qhxT",
        "outputId": "65ada7ff-208d-457c-f1a8-abbce0d2aeb2"
      },
      "outputs": [
        {
          "output_type": "stream",
          "name": "stdout",
          "text": [
            "1. Producto de los vectores: [7, 24, 36, 50, 66]\n",
            "2. Potencia de V1 (n = 3): [1, 27, 64, 125, 216]\n",
            "   Potencia de V2 (n = 3): [343, 512, 729, 1000, 1331]\n",
            "3. Producto escalar: 183\n"
          ]
        }
      ],
      "source": [
        "\n",
        "\n",
        "# Define dos vectores\n",
        "V1 = [1, 3, 4, 5, 6]\n",
        "V2 = [7, 8, 9, 10, 11]\n",
        "\n",
        "# 1. Producto de los vectores\n",
        "producto_vectores = [V1[i] * V2[i] for i in range(len(V1))]\n",
        "\n",
        "# 2. Potencia de cada vector (n = 3)\n",
        "potencia_V1 = [x ** 3 for x in V1]\n",
        "potencia_V2 = [x ** 3 for x in V2]\n",
        "\n",
        "# 3. Producto escalar\n",
        "producto_escalar = np.dot(V1, V2)\n",
        "\n",
        "print(\"1. Producto de los vectores:\", producto_vectores)\n",
        "print(\"2. Potencia de V1 (n = 3):\", potencia_V1)\n",
        "print(\"   Potencia de V2 (n = 3):\", potencia_V2)\n",
        "print(\"3. Producto escalar:\", producto_escalar)\n"
      ]
    }
  ]
}